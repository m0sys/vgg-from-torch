{
 "cells": [
  {
   "cell_type": "markdown",
   "metadata": {},
   "source": [
    "## Implement Vgg19 Model using Keras"
   ]
  },
  {
   "cell_type": "code",
   "execution_count": 1,
   "metadata": {},
   "outputs": [],
   "source": [
    "import tensorflow as tf\n",
    "from tensorflow import keras\n",
    "from tensorflow.keras import layers"
   ]
  },
  {
   "cell_type": "code",
   "execution_count": 2,
   "metadata": {},
   "outputs": [],
   "source": [
    "model = keras.Sequential([\n",
    "    layers.Conv2D(64, activation=\"relu\", input_shape=(224, 224, 3), kernel_size=3, strides=1, padding=\"same\"),\n",
    "    layers.Conv2D(64, activation=\"relu\", kernel_size=3, strides=1, padding=\"same\"),\n",
    "    layers.MaxPool2D(pool_size=2, strides=2),\n",
    "    \n",
    "    layers.Conv2D(128, activation=\"relu\", kernel_size=3, strides=1, padding=\"same\"),\n",
    "    layers.Conv2D(128, activation=\"relu\", kernel_size=3, strides=1, padding=\"same\"),\n",
    "    layers.MaxPool2D(pool_size=2, strides=2),\n",
    "    \n",
    "    layers.Conv2D(256, activation=\"relu\", kernel_size=3, strides=1, padding=\"same\"),\n",
    "    layers.Conv2D(256, activation=\"relu\", kernel_size=3, strides=1, padding=\"same\"),\n",
    "    layers.Conv2D(256, activation=\"relu\", kernel_size=3, strides=1, padding=\"same\"),\n",
    "    layers.Conv2D(256, activation=\"relu\", kernel_size=3, strides=1, padding=\"same\"),\n",
    "    layers.MaxPool2D(pool_size=2, strides=2),\n",
    "    \n",
    "    layers.Conv2D(512, activation=\"relu\", kernel_size=3, strides=1, padding=\"same\"),\n",
    "    layers.Conv2D(512, activation=\"relu\", kernel_size=3, strides=1, padding=\"same\"),\n",
    "    layers.Conv2D(512, activation=\"relu\", kernel_size=3, strides=1, padding=\"same\"),\n",
    "    layers.Conv2D(512, activation=\"relu\", kernel_size=3, strides=1, padding=\"same\"),\n",
    "    layers.MaxPool2D(pool_size=2, strides=2),\n",
    "    \n",
    "    layers.Conv2D(512, activation=\"relu\", kernel_size=3, strides=1, padding=\"same\"),\n",
    "    layers.Conv2D(512, activation=\"relu\", kernel_size=3, strides=1, padding=\"same\"),\n",
    "    layers.Conv2D(512, activation=\"relu\", kernel_size=3, strides=1, padding=\"same\"),\n",
    "    layers.Conv2D(512, activation=\"relu\", kernel_size=3, strides=1, padding=\"same\"),\n",
    "    layers.MaxPool2D(pool_size=2, strides=2),\n",
    "    \n",
    "    layers.Dense(4092, activation=\"relu\"),\n",
    "    layers.Dense(4092, activation=\"relu\"),\n",
    "    layers.Dense(100, activation=\"relu\"),\n",
    "    layers.Softmax()\n",
    "])"
   ]
  },
  {
   "cell_type": "code",
   "execution_count": 3,
   "metadata": {},
   "outputs": [
    {
     "name": "stdout",
     "output_type": "stream",
     "text": [
      "Model: \"sequential\"\n",
      "_________________________________________________________________\n",
      "Layer (type)                 Output Shape              Param #   \n",
      "=================================================================\n",
      "conv2d (Conv2D)              (None, 224, 224, 64)      1792      \n",
      "_________________________________________________________________\n",
      "conv2d_1 (Conv2D)            (None, 224, 224, 64)      36928     \n",
      "_________________________________________________________________\n",
      "max_pooling2d (MaxPooling2D) (None, 112, 112, 64)      0         \n",
      "_________________________________________________________________\n",
      "conv2d_2 (Conv2D)            (None, 112, 112, 128)     73856     \n",
      "_________________________________________________________________\n",
      "conv2d_3 (Conv2D)            (None, 112, 112, 128)     147584    \n",
      "_________________________________________________________________\n",
      "max_pooling2d_1 (MaxPooling2 (None, 56, 56, 128)       0         \n",
      "_________________________________________________________________\n",
      "conv2d_4 (Conv2D)            (None, 56, 56, 256)       295168    \n",
      "_________________________________________________________________\n",
      "conv2d_5 (Conv2D)            (None, 56, 56, 256)       590080    \n",
      "_________________________________________________________________\n",
      "conv2d_6 (Conv2D)            (None, 56, 56, 256)       590080    \n",
      "_________________________________________________________________\n",
      "conv2d_7 (Conv2D)            (None, 56, 56, 256)       590080    \n",
      "_________________________________________________________________\n",
      "max_pooling2d_2 (MaxPooling2 (None, 28, 28, 256)       0         \n",
      "_________________________________________________________________\n",
      "conv2d_8 (Conv2D)            (None, 28, 28, 512)       1180160   \n",
      "_________________________________________________________________\n",
      "conv2d_9 (Conv2D)            (None, 28, 28, 512)       2359808   \n",
      "_________________________________________________________________\n",
      "conv2d_10 (Conv2D)           (None, 28, 28, 512)       2359808   \n",
      "_________________________________________________________________\n",
      "conv2d_11 (Conv2D)           (None, 28, 28, 512)       2359808   \n",
      "_________________________________________________________________\n",
      "max_pooling2d_3 (MaxPooling2 (None, 14, 14, 512)       0         \n",
      "_________________________________________________________________\n",
      "conv2d_12 (Conv2D)           (None, 14, 14, 512)       2359808   \n",
      "_________________________________________________________________\n",
      "conv2d_13 (Conv2D)           (None, 14, 14, 512)       2359808   \n",
      "_________________________________________________________________\n",
      "conv2d_14 (Conv2D)           (None, 14, 14, 512)       2359808   \n",
      "_________________________________________________________________\n",
      "conv2d_15 (Conv2D)           (None, 14, 14, 512)       2359808   \n",
      "_________________________________________________________________\n",
      "max_pooling2d_4 (MaxPooling2 (None, 7, 7, 512)         0         \n",
      "_________________________________________________________________\n",
      "dense (Dense)                (None, 7, 7, 4092)        2099196   \n",
      "_________________________________________________________________\n",
      "dense_1 (Dense)              (None, 7, 7, 4092)        16748556  \n",
      "_________________________________________________________________\n",
      "dense_2 (Dense)              (None, 7, 7, 100)         409300    \n",
      "_________________________________________________________________\n",
      "softmax (Softmax)            (None, 7, 7, 100)         0         \n",
      "=================================================================\n",
      "Total params: 39,281,436\n",
      "Trainable params: 39,281,436\n",
      "Non-trainable params: 0\n",
      "_________________________________________________________________\n"
     ]
    }
   ],
   "source": [
    "model.summary()"
   ]
  },
  {
   "cell_type": "code",
   "execution_count": 7,
   "metadata": {},
   "outputs": [],
   "source": [
    "from tensorflow.keras.utils import plot_model"
   ]
  },
  {
   "cell_type": "code",
   "execution_count": 14,
   "metadata": {},
   "outputs": [
    {
     "name": "stdout",
     "output_type": "stream",
     "text": [
      "Failed to import pydot. You must install pydot and graphviz for `pydotprint` to work.\n"
     ]
    }
   ],
   "source": [
    "plot_model(model, to_file=\"vgg19.png\", show_shapes=True, show_layer_names=True)"
   ]
  },
  {
   "cell_type": "code",
   "execution_count": null,
   "metadata": {},
   "outputs": [],
   "source": []
  }
 ],
 "metadata": {
  "kernelspec": {
   "display_name": "Python 3",
   "language": "python",
   "name": "python3"
  },
  "language_info": {
   "codemirror_mode": {
    "name": "ipython",
    "version": 3
   },
   "file_extension": ".py",
   "mimetype": "text/x-python",
   "name": "python",
   "nbconvert_exporter": "python",
   "pygments_lexer": "ipython3",
   "version": "3.8.6"
  }
 },
 "nbformat": 4,
 "nbformat_minor": 4
}
