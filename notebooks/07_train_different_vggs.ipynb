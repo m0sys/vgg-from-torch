{
 "cells": [
  {
   "cell_type": "markdown",
   "metadata": {},
   "source": [
    "## Training different Vgg model using modules."
   ]
  },
  {
   "cell_type": "code",
   "execution_count": 1,
   "metadata": {},
   "outputs": [],
   "source": [
    "from importlib.util import find_spec\n",
    "if find_spec(\"vgg\") is None:\n",
    "    import sys\n",
    "    sys.path.append('..')"
   ]
  },
  {
   "cell_type": "code",
   "execution_count": 2,
   "metadata": {},
   "outputs": [],
   "source": [
    "import numpy as np\n",
    "import torch\n",
    "import torch.nn.functional as F\n",
    "\n",
    "from vgg.data_loader.data_loaders import DefaultCifar100DataLoader\n",
    "from vgg.model.model import Vgg19"
   ]
  },
  {
   "cell_type": "code",
   "execution_count": 3,
   "metadata": {},
   "outputs": [
    {
     "data": {
      "text/plain": [
       "True"
      ]
     },
     "execution_count": 3,
     "metadata": {},
     "output_type": "execute_result"
    }
   ],
   "source": [
    "torch.cuda.is_available()"
   ]
  },
  {
   "cell_type": "code",
   "execution_count": 4,
   "metadata": {},
   "outputs": [
    {
     "name": "stdout",
     "output_type": "stream",
     "text": [
      "Files already downloaded and verified\n"
     ]
    }
   ],
   "source": [
    "epochs = 100\n",
    "device = torch.device('cuda:0' if torch.cuda.is_available() else 'cpu')\n",
    "dl = DefaultCifar100DataLoader('../data', 32, validation_split=0.1)"
   ]
  },
  {
   "cell_type": "code",
   "execution_count": 5,
   "metadata": {},
   "outputs": [
    {
     "data": {
      "text/plain": [
       "Vgg19(\n",
       "  (conv_layers): Sequential(\n",
       "    (0): Conv2d(3, 64, kernel_size=(3, 3), stride=(1, 1), padding=(1, 1))\n",
       "    (1): ReLU(inplace=True)\n",
       "    (2): Conv2d(64, 64, kernel_size=(3, 3), stride=(1, 1), padding=(1, 1))\n",
       "    (3): ReLU(inplace=True)\n",
       "    (4): MaxPool2d(kernel_size=2, stride=2, padding=0, dilation=1, ceil_mode=False)\n",
       "    (5): Conv2d(64, 128, kernel_size=(3, 3), stride=(1, 1), padding=(1, 1))\n",
       "    (6): ReLU(inplace=True)\n",
       "    (7): Conv2d(128, 128, kernel_size=(3, 3), stride=(1, 1), padding=(1, 1))\n",
       "    (8): ReLU(inplace=True)\n",
       "    (9): MaxPool2d(kernel_size=2, stride=2, padding=0, dilation=1, ceil_mode=False)\n",
       "    (10): Conv2d(128, 256, kernel_size=(3, 3), stride=(1, 1), padding=(1, 1))\n",
       "    (11): ReLU(inplace=True)\n",
       "    (12): Conv2d(256, 256, kernel_size=(3, 3), stride=(1, 1), padding=(1, 1))\n",
       "    (13): ReLU(inplace=True)\n",
       "    (14): Conv2d(256, 256, kernel_size=(3, 3), stride=(1, 1), padding=(1, 1))\n",
       "    (15): ReLU(inplace=True)\n",
       "    (16): Conv2d(256, 256, kernel_size=(3, 3), stride=(1, 1), padding=(1, 1))\n",
       "    (17): ReLU(inplace=True)\n",
       "    (18): MaxPool2d(kernel_size=2, stride=2, padding=0, dilation=1, ceil_mode=False)\n",
       "    (19): Conv2d(256, 512, kernel_size=(3, 3), stride=(1, 1), padding=(1, 1))\n",
       "    (20): ReLU(inplace=True)\n",
       "    (21): Conv2d(512, 512, kernel_size=(3, 3), stride=(1, 1), padding=(1, 1))\n",
       "    (22): ReLU(inplace=True)\n",
       "    (23): Conv2d(512, 512, kernel_size=(3, 3), stride=(1, 1), padding=(1, 1))\n",
       "    (24): ReLU(inplace=True)\n",
       "    (25): Conv2d(512, 512, kernel_size=(3, 3), stride=(1, 1), padding=(1, 1))\n",
       "    (26): ReLU(inplace=True)\n",
       "    (27): MaxPool2d(kernel_size=2, stride=2, padding=0, dilation=1, ceil_mode=False)\n",
       "    (28): Conv2d(512, 512, kernel_size=(3, 3), stride=(1, 1), padding=(1, 1))\n",
       "    (29): ReLU(inplace=True)\n",
       "    (30): Conv2d(512, 512, kernel_size=(3, 3), stride=(1, 1), padding=(1, 1))\n",
       "    (31): ReLU(inplace=True)\n",
       "    (32): Conv2d(512, 512, kernel_size=(3, 3), stride=(1, 1), padding=(1, 1))\n",
       "    (33): ReLU(inplace=True)\n",
       "    (34): Conv2d(512, 512, kernel_size=(3, 3), stride=(1, 1), padding=(1, 1))\n",
       "    (35): ReLU(inplace=True)\n",
       "    (36): MaxPool2d(kernel_size=2, stride=2, padding=0, dilation=1, ceil_mode=False)\n",
       "  )\n",
       "  (fc_layers): Sequential(\n",
       "    (0): Linear(in_features=512, out_features=512, bias=True)\n",
       "    (1): ReLU(inplace=True)\n",
       "    (2): Linear(in_features=512, out_features=512, bias=True)\n",
       "    (3): ReLU(inplace=True)\n",
       "    (4): Linear(in_features=512, out_features=100, bias=True)\n",
       "  )\n",
       ")"
      ]
     },
     "execution_count": 5,
     "metadata": {},
     "output_type": "execute_result"
    }
   ],
   "source": [
    "model = Vgg19()\n",
    "model.to(device)\n",
    "model"
   ]
  },
  {
   "cell_type": "code",
   "execution_count": 26,
   "metadata": {},
   "outputs": [],
   "source": [
    "trainable_params = filter(lambda p: p.requires_grad, model.parameters())\n",
    "optimizer = torch.optim.SGD(trainable_params, lr=5e-2)\n",
    "criterion = F.cross_entropy\n"
   ]
  },
  {
   "cell_type": "code",
   "execution_count": 7,
   "metadata": {},
   "outputs": [
    {
     "data": {
      "text/plain": [
       "torch.Size([32, 3, 32, 32])"
      ]
     },
     "execution_count": 7,
     "metadata": {},
     "output_type": "execute_result"
    }
   ],
   "source": [
    "data, target = next(iter(dl))\n",
    "data, target = data.to(device), target.to(device)\n",
    "data.shape"
   ]
  },
  {
   "cell_type": "code",
   "execution_count": 8,
   "metadata": {},
   "outputs": [],
   "source": [
    "losses = []"
   ]
  },
  {
   "cell_type": "code",
   "execution_count": 28,
   "metadata": {},
   "outputs": [
    {
     "name": "stdout",
     "output_type": "stream",
     "text": [
      "Train Epoch: 0, Loss: 3.235198\n",
      "Train Epoch: 1, Loss: 3.235191\n",
      "Train Epoch: 2, Loss: 3.235183\n",
      "Train Epoch: 3, Loss: 3.235177\n",
      "Train Epoch: 4, Loss: 3.235170\n",
      "Train Epoch: 5, Loss: 3.235163\n",
      "Train Epoch: 6, Loss: 3.235156\n",
      "Train Epoch: 7, Loss: 3.235149\n",
      "Train Epoch: 8, Loss: 3.235142\n",
      "Train Epoch: 9, Loss: 3.235135\n",
      "Train Epoch: 10, Loss: 3.235128\n",
      "Train Epoch: 11, Loss: 3.235122\n",
      "Train Epoch: 12, Loss: 3.235115\n",
      "Train Epoch: 13, Loss: 3.235109\n",
      "Train Epoch: 14, Loss: 3.235102\n",
      "Train Epoch: 15, Loss: 3.235095\n",
      "Train Epoch: 16, Loss: 3.235089\n",
      "Train Epoch: 17, Loss: 3.235082\n",
      "Train Epoch: 18, Loss: 3.235076\n",
      "Train Epoch: 19, Loss: 3.235070\n",
      "Train Epoch: 20, Loss: 3.235062\n",
      "Train Epoch: 21, Loss: 3.235056\n",
      "Train Epoch: 22, Loss: 3.235050\n",
      "Train Epoch: 23, Loss: 3.235043\n",
      "Train Epoch: 24, Loss: 3.235037\n",
      "Train Epoch: 25, Loss: 3.235030\n",
      "Train Epoch: 26, Loss: 3.235024\n",
      "Train Epoch: 27, Loss: 3.235018\n",
      "Train Epoch: 28, Loss: 3.235012\n",
      "Train Epoch: 29, Loss: 3.235006\n",
      "Train Epoch: 30, Loss: 3.235000\n",
      "Train Epoch: 31, Loss: 3.234994\n",
      "Train Epoch: 32, Loss: 3.234987\n",
      "Train Epoch: 33, Loss: 3.234981\n",
      "Train Epoch: 34, Loss: 3.234975\n",
      "Train Epoch: 35, Loss: 3.234969\n",
      "Train Epoch: 36, Loss: 3.234963\n",
      "Train Epoch: 37, Loss: 3.234957\n",
      "Train Epoch: 38, Loss: 3.234951\n",
      "Train Epoch: 39, Loss: 3.234945\n",
      "Train Epoch: 40, Loss: 3.234939\n",
      "Train Epoch: 41, Loss: 3.234933\n",
      "Train Epoch: 42, Loss: 3.234928\n",
      "Train Epoch: 43, Loss: 3.234921\n",
      "Train Epoch: 44, Loss: 3.234916\n",
      "Train Epoch: 45, Loss: 3.234910\n",
      "Train Epoch: 46, Loss: 3.234904\n",
      "Train Epoch: 47, Loss: 3.234899\n",
      "Train Epoch: 48, Loss: 3.234893\n",
      "Train Epoch: 49, Loss: 3.234887\n",
      "Train Epoch: 50, Loss: 3.234881\n",
      "Train Epoch: 51, Loss: 3.234876\n",
      "Train Epoch: 52, Loss: 3.234870\n",
      "Train Epoch: 53, Loss: 3.234865\n",
      "Train Epoch: 54, Loss: 3.234860\n",
      "Train Epoch: 55, Loss: 3.234854\n",
      "Train Epoch: 56, Loss: 3.234848\n",
      "Train Epoch: 57, Loss: 3.234843\n",
      "Train Epoch: 58, Loss: 3.234837\n",
      "Train Epoch: 59, Loss: 3.234832\n",
      "Train Epoch: 60, Loss: 3.234827\n",
      "Train Epoch: 61, Loss: 3.234822\n",
      "Train Epoch: 62, Loss: 3.234816\n",
      "Train Epoch: 63, Loss: 3.234811\n",
      "Train Epoch: 64, Loss: 3.234806\n",
      "Train Epoch: 65, Loss: 3.234800\n",
      "Train Epoch: 66, Loss: 3.234795\n",
      "Train Epoch: 67, Loss: 3.234789\n",
      "Train Epoch: 68, Loss: 3.234784\n",
      "Train Epoch: 69, Loss: 3.234778\n",
      "Train Epoch: 70, Loss: 3.234774\n",
      "Train Epoch: 71, Loss: 3.234769\n",
      "Train Epoch: 72, Loss: 3.234763\n",
      "Train Epoch: 73, Loss: 3.234758\n",
      "Train Epoch: 74, Loss: 3.234754\n",
      "Train Epoch: 75, Loss: 3.234749\n",
      "Train Epoch: 76, Loss: 3.234743\n",
      "Train Epoch: 77, Loss: 3.234738\n",
      "Train Epoch: 78, Loss: 3.234733\n",
      "Train Epoch: 79, Loss: 3.234728\n",
      "Train Epoch: 80, Loss: 3.234723\n",
      "Train Epoch: 81, Loss: 3.234718\n",
      "Train Epoch: 82, Loss: 3.234714\n",
      "Train Epoch: 83, Loss: 3.234709\n",
      "Train Epoch: 84, Loss: 3.234704\n",
      "Train Epoch: 85, Loss: 3.234699\n",
      "Train Epoch: 86, Loss: 3.234694\n",
      "Train Epoch: 87, Loss: 3.234689\n",
      "Train Epoch: 88, Loss: 3.234684\n",
      "Train Epoch: 89, Loss: 3.234680\n",
      "Train Epoch: 90, Loss: 3.234675\n",
      "Train Epoch: 91, Loss: 3.234671\n",
      "Train Epoch: 92, Loss: 3.234665\n",
      "Train Epoch: 93, Loss: 3.234660\n",
      "Train Epoch: 94, Loss: 3.234656\n",
      "Train Epoch: 95, Loss: 3.234651\n",
      "Train Epoch: 96, Loss: 3.234647\n",
      "Train Epoch: 97, Loss: 3.234642\n",
      "Train Epoch: 98, Loss: 3.234637\n",
      "Train Epoch: 99, Loss: 3.234633\n"
     ]
    }
   ],
   "source": [
    "for epoch in range(epochs):\n",
    "    output = model(data)\n",
    "    loss = criterion(output, target)\n",
    "    loss.backward()\n",
    "    optimizer.step()\n",
    "    optimizer.zero_grad() \n",
    "    print(\"Train Epoch: {}, Loss: {:.6f}\".format(epoch, loss.item()))\n",
    "    losses.append(loss.item())\n",
    "    \n",
    "    \n",
    "    \n",
    "    "
   ]
  },
  {
   "cell_type": "code",
   "execution_count": null,
   "metadata": {},
   "outputs": [],
   "source": []
  },
  {
   "cell_type": "code",
   "execution_count": null,
   "metadata": {},
   "outputs": [],
   "source": []
  }
 ],
 "metadata": {
  "kernelspec": {
   "display_name": "Python 3",
   "language": "python",
   "name": "python3"
  },
  "language_info": {
   "codemirror_mode": {
    "name": "ipython",
    "version": 3
   },
   "file_extension": ".py",
   "mimetype": "text/x-python",
   "name": "python",
   "nbconvert_exporter": "python",
   "pygments_lexer": "ipython3",
   "version": "3.8.6"
  }
 },
 "nbformat": 4,
 "nbformat_minor": 4
}
